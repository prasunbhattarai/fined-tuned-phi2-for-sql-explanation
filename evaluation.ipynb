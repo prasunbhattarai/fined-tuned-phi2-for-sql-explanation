{
 "cells": [
  {
   "cell_type": "code",
   "execution_count": 1,
   "id": "2e73fda2",
   "metadata": {},
   "outputs": [
    {
     "name": "stderr",
     "output_type": "stream",
     "text": [
      "d:\\Finetuning\\venv\\Lib\\site-packages\\tqdm\\auto.py:21: TqdmWarning: IProgress not found. Please update jupyter and ipywidgets. See https://ipywidgets.readthedocs.io/en/stable/user_install.html\n",
      "  from .autonotebook import tqdm as notebook_tqdm\n"
     ]
    }
   ],
   "source": [
    "import torch\n",
    "from datasets import load_dataset\n",
    "from torch.utils.data import DataLoader\n",
    "from transformers import AutoTokenizer, TrainingArguments, AutoModelForCausalLM, Trainer, BitsAndBytesConfig, default_data_collator\n",
    "from peft import PeftModel"
   ]
  },
  {
   "cell_type": "code",
   "execution_count": 2,
   "id": "00eadd16",
   "metadata": {},
   "outputs": [],
   "source": [
    "model_name = 'microsoft/phi-2'\n",
    "adapter_path = \"./Fined-tuned-Phi2\"\n",
    "cache_dir = './Phi2_Model'\n",
    "\n"
   ]
  },
  {
   "cell_type": "code",
   "execution_count": 3,
   "id": "95f25088",
   "metadata": {},
   "outputs": [],
   "source": [
    "bitsnbytes = BitsAndBytesConfig(\n",
    "    load_in_4bit = True,\n",
    "    bnb_4bit_quant_dtype = 'nf4',\n",
    "    bnb_4bit_compute_dtype = torch.bfloat16\n",
    ")"
   ]
  },
  {
   "cell_type": "code",
   "execution_count": 4,
   "id": "dfd88d4a",
   "metadata": {},
   "outputs": [
    {
     "name": "stderr",
     "output_type": "stream",
     "text": [
      "Loading checkpoint shards: 100%|██████████| 2/2 [00:04<00:00,  2.32s/it]\n"
     ]
    }
   ],
   "source": [
    "base_model =  AutoModelForCausalLM.from_pretrained(\n",
    "    model_name,\n",
    "    cache_dir = cache_dir,\n",
    "    quantization_config = bitsnbytes,\n",
    "    device_map = 'auto',\n",
    "    trust_remote_code = True\n",
    ").eval()\n",
    "tokenizer = AutoTokenizer.from_pretrained(model_name, cache_dir = './tokens', trust_remote_code = True)\n",
    "tokenizer.pad_token = tokenizer.eos_token\n",
    "\n"
   ]
  },
  {
   "cell_type": "code",
   "execution_count": 5,
   "id": "4d9d211b",
   "metadata": {},
   "outputs": [
    {
     "name": "stderr",
     "output_type": "stream",
     "text": [
      "Loading checkpoint shards: 100%|██████████| 2/2 [00:03<00:00,  1.84s/it]\n",
      "d:\\Finetuning\\venv\\Lib\\site-packages\\peft\\tuners\\lora\\bnb.py:348: UserWarning: Merge lora module to 4-bit linear may get different generations due to rounding errors.\n",
      "  warnings.warn(\n"
     ]
    }
   ],
   "source": [
    "temp_model =  AutoModelForCausalLM.from_pretrained(\n",
    "    model_name,\n",
    "    cache_dir = cache_dir,\n",
    "    quantization_config = bitsnbytes,\n",
    "    device_map = 'auto',\n",
    "    trust_remote_code = True\n",
    ").eval()\n",
    "\n",
    "fine_tuned = PeftModel.from_pretrained(temp_model, adapter_path)\n",
    "fine_tuned = fine_tuned.merge_and_unload().eval()"
   ]
  },
  {
   "cell_type": "code",
   "execution_count": 6,
   "id": "a2c93626",
   "metadata": {},
   "outputs": [],
   "source": [
    "data = dataset = load_dataset(\"gretelai/synthetic_text_to_sql\", cache_dir=\"./dataset\")\n"
   ]
  },
  {
   "cell_type": "code",
   "execution_count": 7,
   "id": "a6be51c7",
   "metadata": {},
   "outputs": [],
   "source": [
    "def tokenize(batch):\n",
    "    texts = [\n",
    "        f'### Instruction: \\n{instruction}\\n### Response\\n{out}'\n",
    "        for instruction, out in zip(batch['sql'], batch['sql_explanation'])\n",
    "    ]\n",
    "    token = tokenizer(\n",
    "        texts,\n",
    "        padding = 'longest',\n",
    "        max_length = 128,\n",
    "        truncation = True,\n",
    "        return_tensors = 'pt'\n",
    "    )\n",
    "    token['labels'] = token['input_ids'].clone()\n",
    "    return token"
   ]
  },
  {
   "cell_type": "code",
   "execution_count": 8,
   "id": "a4af5316",
   "metadata": {},
   "outputs": [],
   "source": [
    "\n",
    "tokenized_test = dataset['test'].shuffle(seed = 42).select(range(500))\n",
    "tokenized_test = tokenized_test.map(tokenize, batched=True, remove_columns=['sql', 'sql_explanation'])\n",
    "tokenized_test = tokenized_test.with_format('torch')\n"
   ]
  },
  {
   "cell_type": "code",
   "execution_count": 9,
   "id": "887a5aec",
   "metadata": {},
   "outputs": [],
   "source": [
    "eval_loader = DataLoader(\n",
    "    tokenized_test,\n",
    "    batch_size = 8,\n",
    "    collate_fn = default_data_collator  \n",
    ")"
   ]
  },
  {
   "cell_type": "code",
   "execution_count": 10,
   "id": "96fe79af",
   "metadata": {},
   "outputs": [],
   "source": [
    "import math\n",
    "@torch.no_grad()\n",
    "def compute_preplexity(model):\n",
    "    losses = []\n",
    "    for batch in eval_loader:\n",
    "        batch = {k: v.to('cuda') for k, v in batch.items()}\n",
    "        loss = model(**batch).loss\n",
    "        losses.append(loss.item())\n",
    "    return math.exp(sum(losses) / len(losses))"
   ]
  },
  {
   "cell_type": "code",
   "execution_count": 11,
   "id": "fe05068d",
   "metadata": {},
   "outputs": [
    {
     "name": "stdout",
     "output_type": "stream",
     "text": [
      "Base Model Perplexity: 88.48299541246114\n",
      "Tuned Model Perplexity: 1.82766329721753\n"
     ]
    }
   ],
   "source": [
    "print(f\"Base Model Perplexity: {compute_preplexity(base_model)}\")\n",
    "print(f\"Tuned Model Perplexity: {compute_preplexity(fine_tuned)}\")\n"
   ]
  },
  {
   "cell_type": "code",
   "execution_count": 12,
   "id": "f270c0e3",
   "metadata": {},
   "outputs": [],
   "source": [
    "\n",
    "\n",
    "def generator(prompt, model):\n",
    "    inputs = tokenizer(prompt, return_tensors=\"pt\").to(fine_tuned.device)\n",
    "    outputs = model.generate(**inputs, max_new_tokens=128)\n",
    "    print(tokenizer.decode(outputs[0], skip_special_tokens=True))\n",
    "\n",
    "prompt = \"\"\" ### Instruction:\n",
    "SELECT \n",
    "    c.customer_id,\n",
    "    c.name,\n",
    "    c.country,\n",
    "    COUNT(o.order_id) AS total_orders,\n",
    "    SUM(o.total_amount) AS total_spent,\n",
    "    CASE\n",
    "        WHEN SUM(o.total_amount) > 500 THEN 'VIP'\n",
    "        WHEN SUM(o.total_amount) BETWEEN 200 AND 500 THEN 'Regular'\n",
    "        ELSE 'Low'\n",
    "    END AS customer_status\n",
    "FROM customers c\n",
    "JOIN orders o ON c.customer_id = o.customer_id\n",
    "GROUP BY c.customer_id, c.name, c.country\n",
    "HAVING total_spent > 100\n",
    "ORDER BY total_spent DESC;\n",
    "\n",
    "### Response:\n",
    "\"\"\"\n",
    "\n"
   ]
  },
  {
   "cell_type": "code",
   "execution_count": 14,
   "id": "341f4db6",
   "metadata": {},
   "outputs": [
    {
     "name": "stderr",
     "output_type": "stream",
     "text": [
      "Setting `pad_token_id` to `eos_token_id`:50256 for open-end generation.\n"
     ]
    },
    {
     "name": "stdout",
     "output_type": "stream",
     "text": [
      " ### Instruction:\n",
      "SELECT \n",
      "    c.customer_id,\n",
      "    c.name,\n",
      "    c.country,\n",
      "    COUNT(o.order_id) AS total_orders,\n",
      "    SUM(o.total_amount) AS total_spent,\n",
      "    CASE\n",
      "        WHEN SUM(o.total_amount) > 500 THEN 'VIP'\n",
      "        WHEN SUM(o.total_amount) BETWEEN 200 AND 500 THEN 'Regular'\n",
      "        ELSE 'Low'\n",
      "    END AS customer_status\n",
      "FROM customers c\n",
      "JOIN orders o ON c.customer_id = o.customer_id\n",
      "GROUP BY c.customer_id, c.name, c.country\n",
      "HAVING total_spent > 100\n",
      "ORDER BY total_spent DESC;\n",
      "\n",
      "### Response:\n",
      "This query lists the customers who have spent more than $100 in total, sorted by the total amount spent in descending order. It uses a CASE statement to categorize customers as VIP, Regular, or Low based on their total spending.\n"
     ]
    }
   ],
   "source": [
    "generator(prompt, fine_tuned)"
   ]
  },
  {
   "cell_type": "code",
   "execution_count": null,
   "id": "51b476e7",
   "metadata": {},
   "outputs": [],
   "source": []
  }
 ],
 "metadata": {
  "kernelspec": {
   "display_name": "venv",
   "language": "python",
   "name": "python3"
  },
  "language_info": {
   "codemirror_mode": {
    "name": "ipython",
    "version": 3
   },
   "file_extension": ".py",
   "mimetype": "text/x-python",
   "name": "python",
   "nbconvert_exporter": "python",
   "pygments_lexer": "ipython3",
   "version": "3.12.5"
  }
 },
 "nbformat": 4,
 "nbformat_minor": 5
}
