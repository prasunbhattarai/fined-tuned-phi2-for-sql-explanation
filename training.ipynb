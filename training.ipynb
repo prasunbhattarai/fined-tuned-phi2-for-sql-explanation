{
 "cells": [
  {
   "cell_type": "code",
   "execution_count": null,
   "id": "936f1112",
   "metadata": {},
   "outputs": [],
   "source": [
    "import torch\n",
    "from datasets import load_dataset\n",
    "from transformers import AutoTokenizer, TrainingArguments, AutoModelForCausalLM, Trainer, BitsAndBytesConfig\n",
    "from peft import LoraConfig, get_peft_model, TaskType"
   ]
  },
  {
   "cell_type": "code",
   "execution_count": null,
   "id": "594b2a9a",
   "metadata": {},
   "outputs": [],
   "source": [
    "model_name = 'microsoft/phi-2'\n",
    "cache_dir = './Phi2_Model'\n",
    "dataset = load_dataset(\"gretelai/synthetic_text_to_sql\", cache_dir=\"./dataset\")\n"
   ]
  },
  {
   "cell_type": "code",
   "execution_count": null,
   "id": "bf4ce392",
   "metadata": {},
   "outputs": [],
   "source": [
    "bitsnbytes = BitsAndBytesConfig(\n",
    "    load_in_4bit = True,\n",
    "    bnb_4bit_quant_dtype = 'nf4',\n",
    "    bnb_4bit_compute_dtype = torch.bfloat16\n",
    ")"
   ]
  },
  {
   "cell_type": "code",
   "execution_count": null,
   "id": "393a6219",
   "metadata": {},
   "outputs": [],
   "source": [
    "model =  AutoModelForCausalLM.from_pretrained(\n",
    "    model_name,\n",
    "    cache_dir = cache_dir,\n",
    "    quantization_config = bitsnbytes,\n",
    "    device_map = 'auto',\n",
    "    trust_remote_code = True\n",
    ")"
   ]
  },
  {
   "cell_type": "code",
   "execution_count": null,
   "id": "eca680e3",
   "metadata": {},
   "outputs": [],
   "source": [
    "tokenizer = AutoTokenizer.from_pretrained(model_name, cache_dir = './tokens', trust_remote_code = True)\n",
    "tokenizer.pad_token = tokenizer.eos_token\n"
   ]
  },
  {
   "cell_type": "code",
   "execution_count": null,
   "id": "91924bf5",
   "metadata": {},
   "outputs": [],
   "source": [
    "lora_config =LoraConfig(\n",
    "    r = 8,\n",
    "    lora_alpha = 16,\n",
    "    target_modules = [\"q_proj\", \"k_proj\", \"v_proj\", \"dense\"],\n",
    "    lora_dropout= 0.05,\n",
    "    bias = 'none',\n",
    "    task_type = TaskType.CAUSAL_LM\n",
    ")\n",
    "\n",
    "model = get_peft_model(model, lora_config)"
   ]
  },
  {
   "cell_type": "code",
   "execution_count": null,
   "id": "0ac85082",
   "metadata": {},
   "outputs": [],
   "source": [
    "def tokenize(batch):\n",
    "    texts = [\n",
    "        f'### Instruction: \\n{instruction}\\n### Response\\n{out}'\n",
    "        for instruction, out in zip(batch['sql'], batch['sql_explanation'])\n",
    "    ]\n",
    "    token = tokenizer(\n",
    "        texts,\n",
    "        padding = 'longest',\n",
    "        max_length = 128,\n",
    "        truncation = True,\n",
    "        return_tensors = 'pt'\n",
    "    )\n",
    "    token['labels'] = token['input_ids'].clone()\n",
    "    return token"
   ]
  },
  {
   "cell_type": "code",
   "execution_count": null,
   "id": "df06690e",
   "metadata": {},
   "outputs": [],
   "source": [
    "tokenized_train = dataset['train'].shuffle(seed = 42).select(range(2000))\n",
    "tokenized_train = tokenized_train.map(tokenize, batched=True, remove_columns=tokenized_train.column_names)\n",
    "tokenized_test = dataset['test'].shuffle(seed = 42).select(range(500))\n",
    "tokenized_test = tokenized_test.map(tokenize, batched=True, remove_columns=tokenized_test.column_names)\n"
   ]
  },
  {
   "cell_type": "code",
   "execution_count": null,
   "id": "fb320adc",
   "metadata": {},
   "outputs": [],
   "source": [
    "training = TrainingArguments(\n",
    "    output_dir = './Training_Data',\n",
    "    per_device_train_batch_size = 1,\n",
    "    gradient_accumulation_steps = 2,\n",
    "    learning_rate = 1e-4,\n",
    "    num_train_epochs = 3,\n",
    "    fp16 = True,\n",
    "    logging_steps = 50,\n",
    "    save_strategy = 'epoch',\n",
    "    remove_unused_columns = False,\n",
    "    label_names = ['labels']\n",
    ")"
   ]
  },
  {
   "cell_type": "code",
   "execution_count": null,
   "id": "1ae3d203",
   "metadata": {},
   "outputs": [],
   "source": [
    "trainer = Trainer(\n",
    "    model = model,\n",
    "    args = training,\n",
    "    train_dataset= tokenized_train,\n",
    "    processing_class = tokenizer\n",
    ")"
   ]
  },
  {
   "cell_type": "code",
   "execution_count": null,
   "id": "db79d02e",
   "metadata": {},
   "outputs": [],
   "source": [
    "trainer.train()"
   ]
  },
  {
   "cell_type": "code",
   "execution_count": null,
   "id": "0f58b045",
   "metadata": {},
   "outputs": [],
   "source": [
    "model.save_pretrained(\"./Fined-tuned-Phi2\")\n",
    "tokenizer.save_pretrained(\"./Fined-tuned-Phi2\")"
   ]
  },
  {
   "cell_type": "code",
   "execution_count": null,
   "id": "95b9c057",
   "metadata": {},
   "outputs": [],
   "source": []
  }
 ],
 "metadata": {
  "kernelspec": {
   "display_name": "venv",
   "language": "python",
   "name": "python3"
  },
  "language_info": {
   "codemirror_mode": {
    "name": "ipython",
    "version": 3
   },
   "file_extension": ".py",
   "mimetype": "text/x-python",
   "name": "python",
   "nbconvert_exporter": "python",
   "pygments_lexer": "ipython3",
   "version": "3.12.5"
  }
 },
 "nbformat": 4,
 "nbformat_minor": 5
}
